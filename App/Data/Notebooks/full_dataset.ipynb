{
 "cells": [
  {
   "cell_type": "code",
   "execution_count": 1,
   "metadata": {},
   "outputs": [],
   "source": [
    "# This notebook is for staging the full data set for running a full train in Google Colab."
   ]
  },
  {
   "cell_type": "code",
   "execution_count": 2,
   "metadata": {},
   "outputs": [],
   "source": [
    "import pandas as pd\n",
    "from sklearn.utils import shuffle\n",
    "import os.path\n",
    "import glob"
   ]
  },
  {
   "cell_type": "code",
   "execution_count": 12,
   "metadata": {},
   "outputs": [
    {
     "data": {
      "text/plain": [
       "<bound method NDFrame.head of         ImagePath Label\n",
       "0    7004-112.jpg    CD\n",
       "1    7002-194.jpg    CD\n",
       "2     7002-66.jpg    CD\n",
       "3     7002-99.jpg    CD\n",
       "4     7003-32.jpg    CD\n",
       "..            ...   ...\n",
       "395  7001-113.jpg    UD\n",
       "396  7001-107.jpg    UD\n",
       "397  7001-106.jpg    UD\n",
       "398  7001-112.jpg    UD\n",
       "399   7001-12.jpg    UD\n",
       "\n",
       "[600 rows x 2 columns]>"
      ]
     },
     "execution_count": 12,
     "metadata": {},
     "output_type": "execute_result"
    }
   ],
   "source": [
    "cols = ['ImagePath', 'Label']\n",
    "lst = []\n",
    "\n",
    "cd_files = glob.glob('../Images/CD/*.jpg')\n",
    "for file in [os.path.basename(x) for x in cd_files]:\n",
    "    lst.append([file, \"CD\"])\n",
    "    df1 = pd.DataFrame(lst, columns=cols)\n",
    "\n",
    "ud_files = glob.glob('../Images/UD/*.jpg')\n",
    "for file in [os.path.basename(x) for x in ud_files]:\n",
    "    lst.append([file, \"UD\"])\n",
    "    df2 = pd.DataFrame(lst, columns=cols)\n",
    "\n",
    "df_all_data = pd.concat([df1, df2])\n",
    "df_all_data.head"
   ]
  },
  {
   "cell_type": "code",
   "execution_count": 13,
   "metadata": {},
   "outputs": [],
   "source": [
    "# save the complete list of images\n",
    "df_all_data.to_csv(\"training_data.csv\", index=False)"
   ]
  }
 ],
 "metadata": {
  "interpreter": {
   "hash": "701d4f28dcd0866722f5108a3a4cbcd08882d26398b6d44117e791d7b8102912"
  },
  "kernelspec": {
   "display_name": "Python 3.8.8 64-bit ('base': conda)",
   "language": "python",
   "name": "python3"
  },
  "language_info": {
   "codemirror_mode": {
    "name": "ipython",
    "version": 3
   },
   "file_extension": ".py",
   "mimetype": "text/x-python",
   "name": "python",
   "nbconvert_exporter": "python",
   "pygments_lexer": "ipython3",
   "version": "3.8.8"
  },
  "orig_nbformat": 4
 },
 "nbformat": 4,
 "nbformat_minor": 2
}
